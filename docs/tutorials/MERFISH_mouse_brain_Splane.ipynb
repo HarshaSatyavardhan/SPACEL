{
 "cells": [
  {
   "cell_type": "markdown",
   "id": "4054f846-fc71-41ca-8bd4-83a30a3a485f",
   "metadata": {},
   "source": [
    "# Splane tutorial: Identification of uniform spatial domain on MERIFISH dataset with single cell resolution"
   ]
  },
  {
   "cell_type": "markdown",
   "id": "7a586b80-766e-47e3-a9f2-fe4dff2781c6",
   "metadata": {},
   "source": [
    "July 2023"
   ]
  },
  {
   "cell_type": "markdown",
   "id": "b2623f99-4eac-43b0-8349-997f97d7e2c4",
   "metadata": {},
   "source": [
    "Dataset: 33 MERFISH slices of mouse brain ([here](https://zenodo.org/record/8167488))"
   ]
  },
  {
   "cell_type": "markdown",
   "id": "348496e8-7ee6-486d-aeb8-e8d85d4a5119",
   "metadata": {},
   "source": [
    "## Data preprocessing"
   ]
  },
  {
   "cell_type": "code",
   "execution_count": 1,
   "id": "808753f6-5d7c-4ab7-be34-c0a05911f039",
   "metadata": {},
   "outputs": [],
   "source": [
    "from SPACEL.setting import set_environ_seed\n",
    "set_environ_seed(42)\n",
    "from SPACEL import Splane\n",
    "import scanpy as sc\n",
    "import numpy as np\n",
    "import pandas as pd\n",
    "import matplotlib"
   ]
  },
  {
   "cell_type": "code",
   "execution_count": 2,
   "id": "cf34fcfa-8daf-43f9-be8b-d202bd2eedfb",
   "metadata": {},
   "outputs": [],
   "source": [
    "st_merfish = sc.read_h5ad('../data/merfish_mouse_brain/merfish_mouse_brain.h5ad')"
   ]
  },
  {
   "cell_type": "markdown",
   "id": "47a25442-24b3-4da5-97fc-513514d57d58",
   "metadata": {},
   "source": [
    "Here, we will incorporate the cell type composition predicted by **Spoint** into the spatial anndata object for subsequent spatial domain identification in **Splane** using the `add_cell_type_composition` function. This function takes a DataFrame containing the cell type composition matrix as input for spot-based spatial transcriptomic data or a series of cell type annotations as input for single-cell resolution spatial transcriptomic data."
   ]
  },
  {
   "cell_type": "code",
   "execution_count": null,
   "id": "dfee4531-b779-4e38-b2a7-dba8f1eb8fc1",
   "metadata": {
    "scrolled": true,
    "tags": []
   },
   "outputs": [],
   "source": [
    "Splane.utils.add_cell_type_composition(st_merfish, celltype_anno=st_merfish.obs['label'])\n",
    "adata_list = Splane.utils.split_ad(st_merfish,'slice_id')"
   ]
  },
  {
   "cell_type": "markdown",
   "id": "cd58d1e1-12f8-40bb-bc15-b7b053c8a686",
   "metadata": {},
   "source": [
    "## Training Splane model"
   ]
  },
  {
   "cell_type": "markdown",
   "id": "075e28b6-615d-4b1b-80ad-2294b31d11f6",
   "metadata": {},
   "source": [
    "In this step, we initialize the Splane model by ``Splane.init_model(...)`` using the anndata object list as input. The ``n_clusters`` parameter determines the number of spatial domains to be identified. The ``k`` parameter controls the degree of neighbors considered in the model, with a larger ``k`` value resulting in more emphasis on global structure rather than local structure. The ``gnn_dropout`` parameter influences the level of smoothness in the model’s predictions, with a higher ``gnn_dropout`` value resulting in a smoother output that accommodates the sparsity of the spatial transcriptomics data. "
   ]
  },
  {
   "cell_type": "markdown",
   "id": "370b34d0-9a7e-44ca-bf3e-4a15898a83b9",
   "metadata": {},
   "source": [
    "We train the model by ``splane.train(...)`` to obtain latent feature of each spots/cells. The parameter ``d_l`` affects the level of batch effect correction between slices. By default, ``d_l`` is ``0.2`` for spatial transcriptomics data with single cell resolution."
   ]
  },
  {
   "cell_type": "markdown",
   "id": "877a6eae-fbf7-4225-b5e1-aa5dd9511d6d",
   "metadata": {},
   "source": [
    "Then, we can identify the spatial domain to which each spot/cell belongs by ``splane.identify_spatial_domain(...)``. By default, the results will be saved in ``spatial_domain`` column in ``.obs``. If the key parameter is provided, the results will be saved in ``.obs[key]``."
   ]
  },
  {
   "cell_type": "code",
   "execution_count": 6,
   "id": "2190f4f8-655d-421c-8f40-dab283a0624d",
   "metadata": {
    "tags": []
   },
   "outputs": [
    {
     "name": "stdout",
     "output_type": "stream",
     "text": [
      "Setting environment seed: 42\n",
      "Setting global seed: 42\n",
      "Calculating cell type weights...\n",
      "Generating GNN inputs...\n",
      "Calculating largest eigenvalue of normalized graph Laplacian...\n",
      "Calculating Chebyshev polynomials up to order 2...\n"
     ]
    },
    {
     "name": "stderr",
     "output_type": "stream",
     "text": [
      "The best epoch 115 total loss=-16.317 g loss=-15.619 d loss=3.488 d acc=0.060 simi loss=-0.997 db loss=0.614:  17%|█▋        | 170/1000 [7:43:09<37:41:19, 163.47s/it]"
     ]
    },
    {
     "name": "stdout",
     "output_type": "stream",
     "text": [
      "Stop trainning because of loss convergence\n"
     ]
    },
    {
     "name": "stderr",
     "output_type": "stream",
     "text": [
      "\n"
     ]
    }
   ],
   "source": [
    "splane_model = Splane.init_model(adata_list, n_clusters=7,use_gpu=False,n_neighbors=25, gnn_dropout=0.5)\n",
    "splane_model.train(d_l=0.2)\n",
    "splane_model.identify_spatial_domain()"
   ]
  },
  {
   "cell_type": "code",
   "execution_count": 7,
   "id": "99ed6b52-11a3-4699-a704-5caa07d26ca1",
   "metadata": {},
   "outputs": [],
   "source": [
    "sc.concat(adata_list).write(f'../data/merfish_mouse_brain/merfish_mouse_brain.h5ad')"
   ]
  }
 ],
 "metadata": {
  "kernelspec": {
   "display_name": "python38-spacel-pytorch",
   "language": "python",
   "name": "python38-spacel-pytorch"
  },
  "language_info": {
   "codemirror_mode": {
    "name": "ipython",
    "version": 3
   },
   "file_extension": ".py",
   "mimetype": "text/x-python",
   "name": "python",
   "nbconvert_exporter": "python",
   "pygments_lexer": "ipython3",
   "version": "3.8.16"
  }
 },
 "nbformat": 4,
 "nbformat_minor": 5
}
